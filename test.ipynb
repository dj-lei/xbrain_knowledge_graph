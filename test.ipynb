{
 "cells": [
  {
   "cell_type": "code",
   "execution_count": null,
   "metadata": {},
   "outputs": [],
   "source": [
    "from kgfw.extract.doc_handle import BaseDocxHandle\n",
    "\n",
    "document = BaseDocxHandle('pdftoword.docx')\n",
    "data = document.get_docx_structure()\n",
    "# catalog = document.get_catalog()\n",
    "# document.recovery_docx()"
   ]
  },
  {
   "cell_type": "code",
   "execution_count": null,
   "metadata": {},
   "outputs": [],
   "source": [
    "data"
   ]
  },
  {
   "cell_type": "code",
   "execution_count": null,
   "metadata": {},
   "outputs": [],
   "source": [
    "from kg_extract.doc_handle import BasePptxHandle\n",
    "document = BasePptxHandle('test.pptx')\n",
    "data = document.get_pptx_structure()"
   ]
  },
  {
   "cell_type": "code",
   "execution_count": null,
   "metadata": {
    "scrolled": true
   },
   "outputs": [],
   "source": [
    "import pandas as pd\n",
    "\n",
    "data = pd.read_excel('dublin2229_GPIO_Pinmux_PA1_upadte.xlsx')"
   ]
  },
  {
   "cell_type": "code",
   "execution_count": null,
   "metadata": {
    "scrolled": true
   },
   "outputs": [],
   "source": [
    "from datetime import datetime\n",
    "from elasticsearch import Elasticsearch\n",
    "# es_ctrl = Elasticsearch([{'host':'localhost','port':9200}])\n",
    "es_ctrl = Elasticsearch([{'host':'10.166.152.49','port':9200}], proxies = {'http': '45.76.191.105:19004'})"
   ]
  },
  {
   "cell_type": "code",
   "execution_count": null,
   "metadata": {
    "scrolled": true
   },
   "outputs": [],
   "source": [
    "import re\n",
    "import json\n",
    "data = es_ctrl.get(index='trouble-shooting-task', id='9jZFRXYBvGheiu9GCm8o')\n",
    "# re.sub('\\\"topic\\\": (.*?)', '',json.dumps(data))"
   ]
  },
  {
   "cell_type": "code",
   "execution_count": null,
   "metadata": {
    "scrolled": true
   },
   "outputs": [],
   "source": [
    "update_data = {'doc':{'username': 'executor',\n",
    "     'password': '123456',\n",
    "     'authority': 'normal',\n",
    "     'groups': [\n",
    "        {\n",
    "             'project': 'Common',\n",
    "             'role': 'visitor'\n",
    "         },\n",
    "         {\n",
    "             'project': 'TroubleShooting',\n",
    "             'role': 'executor'\n",
    "         }\n",
    "     ]}}\n",
    "\n",
    "es_ctrl.update(index='admin', id='jwbx83UBOPmBSJMOKjDC', body=update_data)"
   ]
  },
  {
   "cell_type": "code",
   "execution_count": null,
   "metadata": {
    "scrolled": true
   },
   "outputs": [],
   "source": [
    "pages = [{\n",
    "    'project': 'Common',\n",
    "    'pages':[{'name':'pinmux','role':['visitor'],'href':'#/pinmux'},\n",
    "#              {'name':'hunter','role':['visitor'],'href':'#/hunter'},\n",
    "             {'name':'feedback','role':['visitor'],'href':'#/feedback'},\n",
    "#              {'name':'learning','role':['visitor'],'href':'#/learning'},\n",
    "            ]\n",
    "    },\n",
    "    {\n",
    "    'project': 'Babel',\n",
    "    'pages':[\n",
    "             #{'name':'data','role':['visitor'],'href':'#/data'},\n",
    "             {'name':'symbols','role':['visitor'],'href':'#/symbols'},\n",
    "             {'name':'viewer','role':['visitor'],'href':'#/viewer'}\n",
    "            ]       \n",
    "    },\n",
    "    {\n",
    "    'project': 'TroubleShooting',\n",
    "    'pages':[{'name':'edit','role':['administrator','executor','visitor'],'href':'#/trouble_shooting_template_edit'},\n",
    "            {'name':'task','role':['administrator','executor','visitor'],'href':'#/trouble_shooting_task'}\n",
    "            ]       \n",
    "    }\n",
    "]\n",
    "\n",
    "for elm in pages:\n",
    "    _ = es_ctrl.index(index='pages', body=elm)"
   ]
  },
  {
   "cell_type": "code",
   "execution_count": null,
   "metadata": {
    "scrolled": true
   },
   "outputs": [],
   "source": [
    "es_ctrl.search(index='admin')"
   ]
  },
  {
   "cell_type": "code",
   "execution_count": null,
   "metadata": {
    "scrolled": true
   },
   "outputs": [],
   "source": [
    "doc = {\n",
    "    \"mappings\":{\n",
    "        \"properties\":{\n",
    "            \"username\":{\n",
    "                \"type\":\"keyword\"\n",
    "            },\n",
    "            \"car_number\":{\n",
    "                \"type\":\"keyword\"\n",
    "            },\n",
    "            \"state\":{\n",
    "                \"type\":\"keyword\"\n",
    "            },\n",
    "        }\n",
    "    }\n",
    "}\n",
    "es_ctrl.indices.create(index='stop-car-data',body =doc)"
   ]
  },
  {
   "cell_type": "code",
   "execution_count": null,
   "metadata": {},
   "outputs": [],
   "source": [
    "doc = {\n",
    "    \"mappings\":{\n",
    "        \"properties\":{\n",
    "            \"data_source_name\":{\n",
    "                \"type\":\"keyword\"\n",
    "            }\n",
    "        }\n",
    "    }\n",
    "}\n",
    "es_ctrl.indices.create(index='babel-datas',body =doc)"
   ]
  },
  {
   "cell_type": "code",
   "execution_count": null,
   "metadata": {},
   "outputs": [],
   "source": [
    "_ = es_ctrl.index(index='stop-car-account', body={'username': '133923','password': '123456', 'cookies':'pass'})"
   ]
  },
  {
   "cell_type": "code",
   "execution_count": null,
   "metadata": {},
   "outputs": [],
   "source": [
    "es_ctrl.indices.delete(index='pages')"
   ]
  },
  {
   "cell_type": "code",
   "execution_count": null,
   "metadata": {},
   "outputs": [],
   "source": [
    "def query_with(kv):\n",
    "    doc = {\n",
    "            \"query\": {\n",
    "                \"bool\": {\n",
    "                    \"must\": []\n",
    "                }\n",
    "            }\n",
    "        }\n",
    "    for k, v in kv:\n",
    "        doc[\"query\"][\"bool\"][\"must\"].append({\"term\": {k: v}})\n",
    "    return doc\n",
    "\n",
    "es_ctrl.search(index='stop-car-data', size=200, body=query_with([['username', '133923']]))['hits']['hits']"
   ]
  },
  {
   "cell_type": "code",
   "execution_count": null,
   "metadata": {
    "scrolled": true
   },
   "outputs": [],
   "source": [
    "doc = {\n",
    "    \"query\": {\n",
    "        \"bool\": {\n",
    "            \"must\": [\n",
    "                {\n",
    "                    \"term\": {\n",
    "                        \"template_id\": \"ojvTSnYBChHa9MqEsktD\"\n",
    "                    }\n",
    "                }\n",
    "            ]\n",
    "        }\n",
    "    }\n",
    "}\n",
    "\n",
    "es_ctrl.search(index='trouble-shooting-task', body=doc)"
   ]
  },
  {
   "cell_type": "code",
   "execution_count": null,
   "metadata": {
    "scrolled": false
   },
   "outputs": [],
   "source": [
    "es_ctrl.delete(index='babel-viewers', id='hjjNFXwBGRmkQQYJK83E')"
   ]
  },
  {
   "cell_type": "code",
   "execution_count": null,
   "metadata": {},
   "outputs": [],
   "source": [
    "data = es_ctrl.search(index='babel-datas')['hits']['hits']\n",
    "data"
   ]
  },
  {
   "cell_type": "code",
   "execution_count": null,
   "metadata": {},
   "outputs": [],
   "source": [
    "from io import BytesIO\n",
    "import pandas as pd\n",
    "\n",
    "def mind_export_to_csv(node_data, node=None):\n",
    "    temp = []\n",
    "    node = node if node else ''\n",
    "    if type(node_data) == list:\n",
    "        for elm in node_data:\n",
    "            if elm.__contains__('children'):\n",
    "                temp.extend(mind_export_to_csv(elm['children'], node+'/'+elm['topic']))\n",
    "            else:\n",
    "                temp.append([elm['topic'], node, elm['Status'], elm['Executor']])\n",
    "    else:\n",
    "        if node_data.__contains__('children'):\n",
    "            temp.extend(mind_export_to_csv(node_data['children'], node+'/'+node_data['topic']))\n",
    "        else:\n",
    "            temp.append([node_data['topic'], node, node_data['Status'], node_data['Executor']])\n",
    "    return temp\n",
    "\n",
    "res = es_ctrl.get(index='trouble-shooting-task', id='6Tu7S3YBChHa9MqEu0za')\n",
    "data = res['_source']['nodeData']['children']\n",
    "temp = mind_export_to_csv(data)\n",
    "temp = pd.DataFrame(temp, columns=['Tasks', 'Responsible', 'Achieved', 'Executor'])\n",
    "\n",
    "# excel_file = BytesIO()\n",
    "xlwriter = pd.ExcelWriter('demo.xlsx', engine='xlsxwriter')\n",
    "temp.to_excel(xlwriter, res['_source']['TemplateName'])\n",
    "# xlwriter.save()\n",
    "# excel_file.seek(0)"
   ]
  },
  {
   "cell_type": "code",
   "execution_count": null,
   "metadata": {
    "scrolled": true
   },
   "outputs": [],
   "source": [
    "workbook = xlwriter.book\n",
    "worksheet = xlwriter.sheets[res['_source']['TemplateName']]\n",
    "\n",
    "format_l = workbook.add_format()\n",
    "format_l.set_pattern(1)\n",
    "format_l.set_bg_color('gray')\n",
    "worksheet.write('B1:D2', 'Ray', format_l)\n",
    "xlwriter.save()"
   ]
  },
  {
   "cell_type": "code",
   "execution_count": null,
   "metadata": {},
   "outputs": [],
   "source": [
    "worksheet.write?"
   ]
  },
  {
   "cell_type": "code",
   "execution_count": null,
   "metadata": {},
   "outputs": [],
   "source": [
    "#coding: utf-8\n",
    "import xlsxwriter\n",
    " \n",
    "# 创建工作簿\n",
    "file_name = \"first_book.xlsx\"\n",
    "workbook = xlsxwriter.Workbook(file_name)\n",
    " \n",
    "# 创建工作表\n",
    "worksheet = workbook.add_worksheet('sheet1')\n",
    " \n",
    "# 写单元格\n",
    "worksheet.write(0, 0, 'id')\n",
    "worksheet.write(0,1, 'name')\n",
    "worksheet.write(0,2, 'class')\n",
    "worksheet.write(0,3, 'data')\n",
    " \n",
    "# 写行\n",
    "worksheet.write_row(1, 0, [1, 2, 3])\n",
    " \n",
    "# 写列,其中列D需要大写\n",
    "worksheet.write_column('D2', ['a', 'b', 'c'])\n",
    " \n",
    "# 关闭工作簿\n",
    "workbook.close()"
   ]
  },
  {
   "cell_type": "code",
   "execution_count": null,
   "metadata": {},
   "outputs": [],
   "source": [
    "import requests\n",
    "\n",
    "\n",
    "response = requests.get(\"http://127.0.0.1:5010/get/\")"
   ]
  },
  {
   "cell_type": "code",
   "execution_count": null,
   "metadata": {},
   "outputs": [],
   "source": [
    "response.content"
   ]
  },
  {
   "cell_type": "code",
   "execution_count": null,
   "metadata": {},
   "outputs": [],
   "source": [
    "import pandas as pd\n",
    "\n",
    "data = pd.read_csv('test.csv', encoding='gbk')\n",
    "data.iloc[:,[0]].values"
   ]
  },
  {
   "cell_type": "code",
   "execution_count": null,
   "metadata": {},
   "outputs": [],
   "source": [
    "import base64"
   ]
  },
  {
   "cell_type": "code",
   "execution_count": null,
   "metadata": {},
   "outputs": [],
   "source": [
    "from Crypto.Cipher import AES\n",
    "from Crypto.Random import get_random_bytes\n",
    "\n",
    "data = 'administrator'.encode('utf-8')\n",
    "key = get_random_bytes(16)\n",
    "cipher = AES.new(key, AES.MODE_EAX)\n",
    "ciphertext, tag = cipher.encrypt_and_digest(data)\n",
    "\n",
    "file_out = open(\"encrypted.bin\", \"wb\")\n",
    "[ file_out.write(x) for x in (cipher.nonce, tag, ciphertext) ]\n",
    "file_out.close()"
   ]
  },
  {
   "cell_type": "code",
   "execution_count": null,
   "metadata": {},
   "outputs": [],
   "source": [
    "file_in = open(\"encrypted.bin\", \"rb\")\n",
    "nonce, tag, ciphertext = [ file_in.read(x) for x in (16, 16, -1) ]\n",
    "\n",
    "# let's assume that the key is somehow available again\n",
    "cipher = AES.new(key, AES.MODE_EAX, nonce)\n",
    "data = cipher.decrypt_and_verify(ciphertext, tag)\n",
    "data"
   ]
  },
  {
   "cell_type": "code",
   "execution_count": null,
   "metadata": {},
   "outputs": [],
   "source": [
    "from Crypto.PublicKey import RSA\n",
    "\n",
    "key = RSA.generate(1024)\n",
    "private_key = key.export_key()\n",
    "file_out = open(\"private.pem\", \"wb\")\n",
    "file_out.write(private_key)\n",
    "file_out.close()\n",
    "\n",
    "public_key = key.publickey().export_key()\n",
    "file_out = open(\"receiver.pem\", \"wb\")\n",
    "file_out.write(public_key)\n",
    "file_out.close()"
   ]
  },
  {
   "cell_type": "code",
   "execution_count": null,
   "metadata": {},
   "outputs": [],
   "source": [
    "cipher.block_size"
   ]
  },
  {
   "cell_type": "code",
   "execution_count": null,
   "metadata": {},
   "outputs": [],
   "source": [
    "import requests"
   ]
  },
  {
   "cell_type": "code",
   "execution_count": null,
   "metadata": {},
   "outputs": [],
   "source": [
    "import gzipimport base64\n",
    "from Crypto.PublicKey import RSA\n",
    "from Crypto.Cipher import AES, PKCS1_OAEP\n",
    "from Crypto.Cipher import PKCS1_v1_5\n",
    "\n",
    "ciphertext = 'mzlvr1MNY6y2k3TZvh3DdoGyrNu7xy2AfUXSTaT+Gma+ceZo2Cn4Nixep2dIkeyHW8RKj1JNgZr5eGn8ErgRtPzYx2+tvBCt1pXuZK80LGvfc3ajDbiwd1FkuJvnRcyPrayaD8jfG55EJv0RL/P2+bkyco3cNCAtR2A+Ys7/GMA='\n",
    "private_key = RSA.import_key(open(\"private.pem\").read())\n",
    "\n",
    "\n",
    "# Decrypt the session key with the private RSA key\n",
    "cipher_rsa = PKCS1_v1_5.new(private_key)\n",
    "session_key = cipher_rsa.decrypt(base64.b64decode(ciphertext),\"ERROR\")\n",
    "\n",
    "# # Decrypt the data with the AES session key\n",
    "# cipher_aes = AES.new(session_key, AES.MODE_EAX, nonce)\n",
    "# data = cipher_aes.decrypt_and_verify(ciphertext, tag)\n",
    "# print(data.decode(\"utf-8\"))"
   ]
  },
  {
   "cell_type": "code",
   "execution_count": null,
   "metadata": {},
   "outputs": [],
   "source": [
    "session_key.decode()"
   ]
  },
  {
   "cell_type": "code",
   "execution_count": null,
   "metadata": {},
   "outputs": [],
   "source": [
    "a = \"{\\\"isNewReport\\\":1,\\\"userId\\\":\\\"\\\",\\\"carNo\\\":\\\"甘-J2L199\\\",\\\"privacyOption\\\":1,\\\"longitude\\\":103.97679,\\\"latitude\\\":30.67841,\\\"distance\\\":3000,\\\"openId\\\":\\\"\\\",\\\"signType\\\":\\\"MD5\\\",\\\"timestamp\\\":1609574891332,\\\"nonce\\\":\\\"35053231609574891332\\\",\\\"sign\\\":\\\"DA8FEA8741ACBA2F7B7B8A2BDE994F8D\\\"}\"\n",
    "b = \"{\\\"isNewReport\\\":1,\\\"userId\\\":\\\"c36b86825b004d648bfbbbc1b58a675e\\\",\\\"carNo\\\":\\\"川-C3D682\\\",\\\"privacyOption\\\":1,\\\"longitude\\\":0,\\\"latitude\\\":0,\\\"distance\\\":3000,\\\"openId\\\":\\\"\\\",\\\"signType\\\":\\\"MD5\\\",\\\"timestamp\\\":1609739888281,\\\"nonce\\\":\\\"75341421609739888281\\\",\\\"sign\\\":\\\"48DF5B8598ADEC7BE0D1B90D268C227E\\\"}\""
   ]
  },
  {
   "cell_type": "code",
   "execution_count": null,
   "metadata": {},
   "outputs": [],
   "source": [
    "import gzip\n",
    "import json\n",
    "\n",
    "with open('IWD.json','r',encoding='utf8')as fp:\n",
    "    json_data = json.load(fp)"
   ]
  },
  {
   "cell_type": "code",
   "execution_count": null,
   "metadata": {
    "scrolled": true
   },
   "outputs": [],
   "source": [
    "len(gzip.compress(json.dumps(json_data).encode()))"
   ]
  },
  {
   "cell_type": "code",
   "execution_count": null,
   "metadata": {},
   "outputs": [],
   "source": [
    "len(json.dumps(json_data))"
   ]
  },
  {
   "cell_type": "code",
   "execution_count": null,
   "metadata": {},
   "outputs": [],
   "source": [
    "import requests\n",
    "\n",
    "url=\"https://ericsson.sharepoint.com/sites/PDURadioChengduFirmware/Shared%20Documents/Forms/AllItems.aspx\"\n",
    "headers={\n",
    "    'Host': \"ericsson.sharepoint.com\",\n",
    "    'User-Agent': \"Mozilla/5.0 (Windows NT 10.0; Win64; x64; rv:78.0) Gecko/20100101 Firefox/78.0\",\n",
    "    'Accept': \"text/html,application/xhtml+xml,application/xml;q=0.9,image/webp,*/*;q=0.8\",\n",
    "    'Accept-Language': \"en-US,en;q=0.5\",\n",
    "    'Accept-Encoding': \"gzip, deflate, br\",\n",
    "    'Referer': \"https://login.microsoftonline.com/\",\n",
    "    'Upgrade-Insecure-Requests': \"1\",\n",
    "    'Connection': \"keep-alive\",\n",
    "    'Cookie': \"rtFa=WSBaz0JfgJmPAlBlLH9kCuaTD118ctqDxr0kXGnh8iwmOTJFODRDRUItRkJGRC00N0FCLUJFNTItMDgwQzZCODc5NTNGIzEzMjU2MjAxMzE5NzUzNjgwOSMyMjRBQTU5Ri1EMDRCLUIwMDAtQzk0Mi00QzVDRUQzQUNGMUYozAClMgzoD5Fb1dM6x/qPug79a5y4Vm4RVuDMFNgRBSJ+AmS6ksdUyyrfQTr1aWxmsYQ9dIyTWb4LxNO+lZy6z54d3i7rvJ2fPYGRXbmWUKyjyg54ts1B7NKL31q0OSLTrmnt6XdSKoSaUy2X1znQG9oVPpWNfMvmxUWOScpOluNYaHv+3iY14kvLGJKZPZ1jVbG4JDDI1T1VEzAFkaK2aSQHuEfBr5TUj7d0mm1u2D6Ak6hlH6k1hsuGmiM4MU8/n//yQhfjrB0Ujw4InleEjQSGX/QCb/KOUeTULRHP18+JVeprkQn0II/rcUvWx6iTz3qne4p8Y2MwXCjJhaiDfQAAAA==; FedAuth=77u/PD94bWwgdmVyc2lvbj0iMS4wIiBlbmNvZGluZz0idXRmLTgiPz48U1A+VjgsMGguZnxtZW1iZXJzaGlwfDEwMDMyMDAwZTFkMjZjMGJAbGl2ZS5jb20sMCMuZnxtZW1iZXJzaGlwfGRlbmdqdW4ubGVpQGVyaWNzc29uLmNvbSwxMzI1NjIwMTI5NTAwMDAwMDAsMTMyNTIzODM2MDAwMDAwMDAwLDEzMjU2Mjg3NzE5NzM4MDMwOSwxMDEuMzMuMTI3LjExNSw2Niw5MmU4NGNlYi1mYmZkLTQ3YWItYmU1Mi0wODBjNmI4Nzk1M2YsLDRiOWYxYzUyLTdiYzktNGQyZC1iYzMxLTI4ZDBlYmU2OTNhOSwyMmEyODc5ZC02ODdlLTQ0N2YtODBiZC1mYmM4YTU0NDdiOWQsMjJhMjg3OWQtNjg3ZS00NDdmLTgwYmQtZmJjOGE1NDQ3YjlkLCwwLDEzMjU2MjA0OTE5NjkxMTk2NywxMzI1NjQ2MDUxOTY5MTE5NjcsLCxleUo0YlhOZlkyTWlPaUpiWENKRFVERmNJbDBpZlE9PSwyNjUwNDY3NzQzOTk5OTk5OTk5LDEzMjU2MjAxMzE4MDAwMDAwMCxlYzhmOTFhNS01NDY1LTQ2NmYtYjMwOS00NGQxZDNkMGUyODAsSUhuNWlPWDNMNXlhazRsRHpXMi9kY01GVmgyMGZmbzNxUlpYRkU4emZaZGxZdEJYUjBWTjV5OW80SFFRVDN5cDRuRk9HK3pJcVNwV0dmU09CZEI3Q2QrcWF5eUM0cU84WTB3Tm51cWYvNktRVC9nRzk4ZEN0enpGZHo2Tm5qSUY3Z2JLenZoK1paVFpVRVFEZUZ4UVBaZUxNcXA4cTVqQkZOOTRqZFErMXJLZElETHpzcFJzSmxEbnZYSStlOE5ZUzc5ZWxrYU9iSUp2bWp6cStSWVYwUnpJQ1E3OHZNam9FQU9CVzR4MnFLMVpmd29vVmZQbDBWMWtsRmVoSElPc1B0NlZnd2dmSVljcFNteVdGVHZiSXFoamxPUkZKT2xKbG9VREI3K0d5Y2I0UmNyUEpxOGZZSUxmNVBhR3YrZ041R2VhMlNuNWtUenE2SXJGQkZwRHZ3PT08L1NQPg==; CCSInfo=MS8zMC8yMDIxIDg6MTM6MzcgQU1Dq8P8FwjF7qoLaotIfXAD6pzzfAC8Igyur4WzdR48fhkTNrX4T+U+3N3OGnqnnUrgXhcg4TBb1y4oj4ElQoVwUSiMNMYySW9/trH+ncjNMtm1KXp8MzcwHnTeA2pyw0mwz11zlQAr0cuoo0sfcVUiPj2hFTZIVN90z2pDmmAL62MFZEANBNPMo0/ul6PgfNsMo4JMggLqUR4JWdV4ePmD11m0t+U2o7G5r/xeXyuYLLQvNdsl2BWtCCBeB3DbMUMJz+yOzqmXFnInWBUwy6dyAgZXupBc2D+ukeXWcP/6SKyKiP47iZHOsQRx5dV4KSNa9sJXfUMs4fK1eZH5+lnrFAAAAA==; isso=dHJ1ZSwyODUwMCwyODgwMCwxNjExNzU2MjkxNDk2LDE2MTE3NTY1OTE0OTY=\"\n",
    "}\n",
    "payload={\"parameters\":{\"__metadata\":{\"type\":\"SP.RenderListDataParameters\"},\"RenderOptions\":5707527,\"AllowMultipleValueFilterForTaxonomyFields\":True,\"AddRequiredFields\":True}}\n",
    "cookies={\n",
    "    'CCSInfo': \"My8yMC8yMDIxIDI6NTQ6NDkgQU0SMXTuAaPn+TowrIe//27HqthHXxWJjYizZHGKbMmdXtXbmBIDu1aRZBYw8ipimYkwQLvJKNVC0OZ55+psjEE13zU7CPz8E7Chl+RLRL2rJTB4Yv5rbdJYvVfbb/PnFG8nORIq4KNgIzVOr+dCed6iynlpKOxRinH9aJHMhVsT9TvDrw4iDCl4JDVPLAPKBoOiKlk7f15QWAi4riJW7xqongVMQzhVX8YFG6U7nSh0DGpv8H/H9HMkKeHRPd+nsj5gNoaCoxm3kILZPYDJ9lAj6C/Z2R2adoiIIxTMF14UAlwMpWp9tzVFydm29ndBsOyOlNQnIU3o30rJhXWpFrTkFAAAAA==\",\n",
    "    'FedAuth': \"77u/PD94bWwgdmVyc2lvbj0iMS4wIiBlbmNvZGluZz0idXRmLTgiPz48U1A+VjksMGguZnxtZW1iZXJzaGlwfDEwMDMyMDAwZTFkMjZjMGJAbGl2ZS5jb20sMCMuZnxtZW1iZXJzaGlwfGRlbmdqdW4ubGVpQGVyaWNzc29uLmNvbSwxMzI2MDQxNTc2NDAwMDAwMDAsMTMyNjAyNjM0MzcwMDAwMDAwLDEzMjYwNTAyMTkxNTQ3NDE0Nyw0NS43Ni4xOTEuMTA1LDY2LDkyZTg0Y2ViLWZiZmQtNDdhYi1iZTUyLTA4MGM2Yjg3OTUzZiwsYmRmODgwMzktZWZmZi00MjQwLTg3NjAtMTVlNmVlNWNkNTlkLDM4YWIyMDUyLTlkY2QtNDBiNy1hZmMxLTI4NmRlNzBhZTY3YiwzOGFiMjA1Mi05ZGNkLTQwYjctYWZjMS0yODZkZTcwYWU2N2IsLDAsMTMyNjA0MTkzOTE0MjI0NjY1LDEzMjYwNjc0OTkxNDIyNDY2NSwsLGV5SjRiWE5mWTJNaU9pSmJYQ0pEVURGY0lsMGlmUT09LDI2NTA0Njc3NDM5OTk5OTk5OTksMTMyNjA0MTU3OTAwMDAwMDAwLGVjOGY5MWE1LTU0NjUtNDY2Zi1iMzA5LTQ0ZDFkM2QwZTI4MCwsLCwsdEVrNUt0eGN0WVFHaDhMRWlMeENpUlFpcDlnS2xpc294SDEwbngra245bVNLQ0FzSnF2b2N3aXplODY0eUE3OXExOTNUd2cweFJJbk82QXFEdXlVdjBud00xd3VhVk1Xbkp6b3NMdXVORmlZbkNyR2Nsd0ZySjhaQXRLODFKK21qTng4K1ZkVnNyVW1PcE1SYkptNko1TEpoT1NPSFc1cHBBdXNkRkc3QlV6bkpDQ0NSaW9ueGZITy9ENmdTSVVCakh5WWYrTGNXbFJMU0RLWFFOVUVWcm5iUVVzZE5LVkoyL2piaGxkZDFoYkI5dGdkNC9zcDZUcHRlZ1UyM3huWVEwNEkrbmI2cWhlK0tWNUFEeXdTeXRtaDhhdzFyK0F3TjdwN3dTUEFoeDMvNkEzL2k2YmJKaVV6VnkyMUtFT2FDQ3poemlGUzVnNVRaZmRDWVNyWW13PT08L1NQPg==\",\n",
    "    'isso':\"VHJ1ZSwyODUwMCwyODgwMCwxNjE1OTcxMDg4NTE3LDE2MTU5NzEzODg1MTc=\",\n",
    "    'rtFa':\"/yXlAC5/seA8TZzf/fOHNn8ATL7LkjkP9WzZnGPY3igmOTJFODRDRUItRkJGRC00N0FCLUJFNTItMDgwQzZCODc5NTNGIzEzMjYwNDE1NzkxNTYzMDYzOCM1RUZEQjQ5Ri1GMDBGLUIwMDAtQzk0Mi00QzU2Njk1OUM4RUQEDYYDoopu/0XVTR/XYuZ5hzqxqlSpImF3YVKwFbGFkoNlKmTq5fqYYqvFb6BZ6Cdub+Iu3/sXIgqR60lX2Z5qmDwl6rLntzeUmgV+bLuA17F454o1n28Wu4gvIeB20X4LOdBCVoPzcQ8idJUDox8JwCyJB8np2IOciuZzM/uDYHwywtWzq08h6BuuPk0HQ3uVsdqPi8cSWE3N7A+267CEmDuxFgxUZAYBZgH5i0+q/bJHLIeQOXuFaEkR2keUXvH2jYTckUGq2EW6fnUAZSr5bktSeGr0ZhKJJaXSSnos7ofgorCb7XF2L/DV3hvcMYkwJ4hRF9F6SdLmHreo0lI6fQAAAA==\",\n",
    "}"
   ]
  },
  {
   "cell_type": "code",
   "execution_count": null,
   "metadata": {
    "scrolled": true
   },
   "outputs": [],
   "source": [
    "import requests\n",
    "\n",
    "request = requests.session()\n",
    "ret=request.get(url,headers=headers,cookies=cookies)\n",
    "# ret.content"
   ]
  },
  {
   "cell_type": "code",
   "execution_count": null,
   "metadata": {},
   "outputs": [],
   "source": [
    "url=\"https://ericsson.sharepoint.com/sites/PDURadioChengduFirmware/_api/web/GetListUsingPath(DecodedUrl=@a1)/RenderListDataAsStream?@a1='/sites/PDURadioChengduFirmware/Shared Documents'&View=1d04f153-2aa3-4553-b6e2-14b66655e6d4&TryNewExperienceSingle=TRUE\"\n",
    "ret1=request.post(url,cookies=ret.cookies.get_dict())"
   ]
  },
  {
   "cell_type": "code",
   "execution_count": null,
   "metadata": {
    "scrolled": true
   },
   "outputs": [],
   "source": [
    "url=\"https://ericsson.sharepoint.com/sites/PDURadioChengduFirmware/_api/web/GetListUsingPath(DecodedUrl=@a1)/RenderListDataAsStream?@a1='/sites/PDURadioChengduFirmware/Shared Documents'&RootFolder=/sites/PDURadioChengduFirmware/Shared Documents/2018 TeamBuilding&View=1d04f153-2aa3-4553-b6e2-14b66655e6d4&TryNewExperienceSingle=TRUE\"\n",
    "ret2=request.post(url,cookies=ret1.cookies.get_dict())"
   ]
  },
  {
   "cell_type": "code",
   "execution_count": null,
   "metadata": {},
   "outputs": [],
   "source": [
    "import json\n",
    "json.loads(ret2.content)"
   ]
  },
  {
   "cell_type": "code",
   "execution_count": null,
   "metadata": {},
   "outputs": [],
   "source": [
    "temp = \"/sites/PDURadioChengduFirmware/Shared Documents/2018 TeamBuilding/2018_TB_GroupPhotos.rar\"\n",
    "temp[1:]"
   ]
  },
  {
   "cell_type": "code",
   "execution_count": null,
   "metadata": {},
   "outputs": [],
   "source": [
    "url=\"https://ericsson.sharepoint.com/sites/PDURadioChengduFirmware/_layouts/15/download.aspx?UniqueId=0cf748e8%2D85b9%2D4b8a%2D9b9e%2Dda6ecf75d039\"\n",
    "ret3=request.post(url)"
   ]
  },
  {
   "cell_type": "code",
   "execution_count": null,
   "metadata": {},
   "outputs": [],
   "source": [
    "with open(\"testtest.docx\", \"wb\") as f:\n",
    "    f.write(ret3.content)"
   ]
  },
  {
   "cell_type": "code",
   "execution_count": null,
   "metadata": {},
   "outputs": [],
   "source": [
    "import gzip\n",
    "import base64\n",
    "\n",
    "result = gzip.compress(ret3.content)\n",
    "base64_str = base64.b64encode(result)\n"
   ]
  },
  {
   "cell_type": "code",
   "execution_count": null,
   "metadata": {},
   "outputs": [],
   "source": [
    "len(base64_str)"
   ]
  },
  {
   "cell_type": "code",
   "execution_count": null,
   "metadata": {},
   "outputs": [],
   "source": [
    "from kgfw.extract.doc_handle import BaseDocxHandle\n",
    "\n",
    "document = BaseDocxHandle(BytesIO(bytes(ret3.content)))\n",
    "data = document.get_docx_structure()"
   ]
  },
  {
   "cell_type": "code",
   "execution_count": null,
   "metadata": {},
   "outputs": [],
   "source": [
    "data = {'headers':headers, 'cookies':cookies}\n",
    "with open(\"sharepoint_config.json\",\"w\") as f:\n",
    "    json.dump(data,f)\n",
    "    \n",
    "# with open(\"sharepoint_config.json\",'r') as load_f:\n",
    "#     load_dict = json.load(load_f)\n",
    "# load_dict"
   ]
  },
  {
   "cell_type": "code",
   "execution_count": null,
   "metadata": {},
   "outputs": [],
   "source": [
    "import pdfplumber\n",
    "\n",
    "with pdfplumber.open(\"test.pdf\") as pdf:\n",
    "    first_page = pdf.pages[1]\n",
    "    print(first_page.extract_text())"
   ]
  },
  {
   "cell_type": "code",
   "execution_count": null,
   "metadata": {},
   "outputs": [],
   "source": [
    "import torch\n",
    "x = torch.rand(5, 3)\n",
    "print(x)"
   ]
  },
  {
   "cell_type": "code",
   "execution_count": null,
   "metadata": {},
   "outputs": [],
   "source": [
    "import torch\n",
    "torch.cuda.is_available()"
   ]
  },
  {
   "cell_type": "code",
   "execution_count": null,
   "metadata": {},
   "outputs": [],
   "source": [
    "from transformers import BertTokenizer, BertModel\n",
    "tokenizer = BertTokenizer.from_pretrained('bert-base-uncased')\n",
    "model = BertModel.from_pretrained(\"bert-base-uncased\", output_hidden_states = True)\n",
    "model.eval()"
   ]
  },
  {
   "cell_type": "code",
   "execution_count": null,
   "metadata": {},
   "outputs": [],
   "source": [
    "text = \"General Description\"\n",
    "encoded_input = tokenizer(text, return_tensors='pt')"
   ]
  },
  {
   "cell_type": "code",
   "execution_count": null,
   "metadata": {},
   "outputs": [],
   "source": [
    "encoded_input"
   ]
  },
  {
   "cell_type": "code",
   "execution_count": null,
   "metadata": {},
   "outputs": [],
   "source": [
    "input_ids = torch.tensor(tokenizer.encode(\"General Description\")).unsqueeze(0)  # Batch size 1\n",
    "outputs = model(input_ids)\n",
    "# last_hidden_states = outputs[0]  # The last hidden-state is the first element of the output tuple"
   ]
  },
  {
   "cell_type": "code",
   "execution_count": null,
   "metadata": {
    "scrolled": true
   },
   "outputs": [],
   "source": [
    "hidden_states = outputs[2]\n",
    "token_vecs = hidden_states[-2][0]\n",
    "# Calculate the average of all 22 token vectors.\n",
    "sentence_embedding = torch.mean(token_vecs, dim=0)\n",
    "sentence_embedding"
   ]
  },
  {
   "cell_type": "code",
   "execution_count": null,
   "metadata": {
    "scrolled": true
   },
   "outputs": [],
   "source": [
    "len(hidden_states[-2][0])"
   ]
  },
  {
   "cell_type": "code",
   "execution_count": null,
   "metadata": {},
   "outputs": [],
   "source": []
  },
  {
   "cell_type": "code",
   "execution_count": null,
   "metadata": {},
   "outputs": [],
   "source": [
    "import numpy as np  \n",
    "from milvus import Milvus, MetricType  \n",
    "\n",
    "# 初始化一个Milvus类，以后所有的操作都是通过milvus来的  \n",
    "milvus = Milvus(host='localhost', port='19530')  \n",
    "\n",
    "# 向量个数  \n",
    "num_vec = 5000  \n",
    "# 向量维度  \n",
    "vec_dim = 768  \n",
    "# name  \n",
    "collection_name = \"test_collection\"  \n",
    "# 创建collection，可理解为mongo的collection  \n",
    "collection_param = {  \n",
    "    'collection_name': collection_name,  \n",
    "    'dimension': vec_dim,  \n",
    "    'index_file_size': 32,  \n",
    "    'metric_type': MetricType.IP  # 使用内积作为度量值  \n",
    "}  \n",
    "milvus.create_collection(collection_param)  \n",
    "\n",
    "# 随机生成一批向量数据  \n",
    "# 支持ndarray，也支持list  \n",
    "vectors_array = np.random.rand(num_vec, vec_dim)  \n",
    "\n",
    "# 把向量添加到刚才建立的collection中  \n",
    "status, ids = milvus.insert(collection_name=collection_name, records=vectors_array)  # 返回 状态和这一组向量的ID  \n",
    "milvus.flush([collection_name])  \n",
    "\n",
    "# 输出统计信息  \n",
    "print(milvus.get_collection_stats(collection_name))  \n",
    "\n",
    "# 创建查询向量  \n",
    "query_vec_array = np.random.rand(1, vec_dim)  \n",
    "# 进行查询,  \n",
    "status, results = milvus.search(collection_name=collection_name, query_records=query_vec_array, top_k=5)  \n",
    "print(status)  \n",
    "print(results)  \n",
    "\n",
    "# 如果不用可以删掉  \n",
    "status = milvus.drop_collection(collection_name)  \n",
    "\n",
    "# 断开、关闭连接  \n",
    "milvus.close()"
   ]
  },
  {
   "cell_type": "code",
   "execution_count": null,
   "metadata": {
    "scrolled": true
   },
   "outputs": [],
   "source": [
    "import json\n",
    "import requests\n",
    "\n",
    "con = []\n",
    "for i in range(0,10):\n",
    "    con.append(\"hello world!\"+str(i))\n",
    "data = {'text': con}\n",
    "url = 'http://localhost:8000/extract/text_embedding'\n",
    "res = requests.post(url,data=data)"
   ]
  },
  {
   "cell_type": "code",
   "execution_count": null,
   "metadata": {},
   "outputs": [],
   "source": [
    "import torch\n",
    "from transformers import BertTokenizer, BertModel\n",
    "\n",
    "class BaseBertEmbedding(object):\n",
    "\n",
    "    def __init__(self, model):\n",
    "        self.tokenizer = BertTokenizer.from_pretrained(model)\n",
    "        self.model = BertModel.from_pretrained(model)\n",
    "\n",
    "    def get_input_ids(self, text):\n",
    "        return torch.tensor(self.tokenizer.encode(text)).unsqueeze(0)  # Batch size 1\n",
    "\n",
    "    def get_last_hidden_states(self, text):\n",
    "        return self.model(self.get_input_ids(text))[0]\n",
    "    \n",
    "text_embedding = BaseBertEmbedding('bert-base-uncased')"
   ]
  },
  {
   "cell_type": "code",
   "execution_count": null,
   "metadata": {},
   "outputs": [],
   "source": [
    "from urllib3 import encode_multipart_formdata\n",
    "\n",
    "url = 'http://localhost:8000/extract/extract_docx'\n",
    "data = {}\n",
    "headers = {}\n",
    "data['upload_file'] = (\"test.docx\", open(\"test.docx\", 'rb').read())\n",
    "encode_data = encode_multipart_formdata(data)\n",
    "data = encode_data[0]\n",
    "headers['Content-Type'] = encode_data[1]\n",
    "res = requests.post(url, headers=headers, data=data)"
   ]
  },
  {
   "cell_type": "code",
   "execution_count": null,
   "metadata": {
    "scrolled": true
   },
   "outputs": [],
   "source": [
    "from io import BytesIO\n",
    "from kgfw.extract.doc_handle import BaseDocxHandle\n",
    "\n",
    "with open('test.docx', 'rb') as f:\n",
    "    file = BytesIO(f.read())\n",
    "    # f = open(\"testtest.docx\", 'rb').read()\n",
    "document = BaseDocxHandle(file)\n",
    "data = document.get_docx_structure()\n",
    "data"
   ]
  },
  {
   "cell_type": "code",
   "execution_count": null,
   "metadata": {},
   "outputs": [],
   "source": [
    "import requests\n",
    "\n",
    "url=\"http://123.57.202.1:8000/vip\"\n",
    "query_headers={\n",
    "    'Host': \"123.57.202.1:8000\",\n",
    "    'User-Agent': \"Mozilla/5.0 (Windows NT 10.0; Win64; x64; rv:78.0) Gecko/20100101 Firefox/78.0\",\n",
    "    'Accept': \"application/json, text/plain, */*\",\n",
    "    'Accept-Language': \"en-US,en;q=0.9\",\n",
    "    'Accept-Encoding': \"gzip, deflate\",\n",
    "    'Referer': \"http://123.57.202.1:8000/\",\n",
    "    'Connection': \"keep-alive\",\n",
    "    'Cookie': \"session=eyJhdXRoIjp0cnVlfQ.YGE35w.x0slYTLo31jxg6VY1s9B2Lihjd4\"\n",
    "}"
   ]
  },
  {
   "cell_type": "code",
   "execution_count": null,
   "metadata": {},
   "outputs": [],
   "source": [
    "request = requests.session()\n",
    "ret=request.get(url,headers=query_headers)"
   ]
  },
  {
   "cell_type": "code",
   "execution_count": null,
   "metadata": {
    "scrolled": true
   },
   "outputs": [],
   "source": [
    "import json\n",
    "json.loads(ret.content)"
   ]
  },
  {
   "cell_type": "code",
   "execution_count": null,
   "metadata": {},
   "outputs": [],
   "source": [
    "len(es_ctrl.search(index='stop-car-data', body=query_with([['username', str(666666)]]),size=100)['hits']['hits'])"
   ]
  },
  {
   "cell_type": "code",
   "execution_count": null,
   "metadata": {
    "scrolled": true
   },
   "outputs": [],
   "source": [
    "def query_with(kv):\n",
    "    doc = {\n",
    "            \"query\": {\n",
    "                \"bool\": {\n",
    "                    \"must\": []\n",
    "                }\n",
    "            }\n",
    "        }\n",
    "    for k, v in kv:\n",
    "        doc[\"query\"][\"bool\"][\"must\"].append({\"term\": {k: v}})\n",
    "    return doc\n",
    "\n",
    "res = es_ctrl.search(index='stop-car-data', body=query_with([['username', str(133923)]]))['hits']['hits']\n",
    "tmp = []\n",
    "for elm in res:\n",
    "    tmp.append(elm['_source'])\n",
    "tmp"
   ]
  },
  {
   "cell_type": "code",
   "execution_count": null,
   "metadata": {},
   "outputs": [],
   "source": [
    "es_ctrl.search(index='stop-car-data', body=query_with([['username', str(133923)]]))['hits']['hits']"
   ]
  },
  {
   "cell_type": "code",
   "execution_count": null,
   "metadata": {},
   "outputs": [],
   "source": [
    "try:\n",
    "    data = json.loads(ret.content)\n",
    "    for car in data['vips']:\n",
    "        elm = {'username': '133923', 'car_number':car['card'], 'info':car}\n",
    "        _ = es_ctrl.index(index='stop-car-data', body=elm)\n",
    "except Exception as e:\n",
    "    traceback.print_exc()"
   ]
  },
  {
   "cell_type": "code",
   "execution_count": null,
   "metadata": {},
   "outputs": [],
   "source": [
    "add_url = \"http://123.57.202.1:8000/add\"\n",
    "\n",
    "add_headers={\n",
    "    \"Accept\": \"application/json, text/plain, */*\",\n",
    "    \"Accept-Encoding\": \"gzip, deflate\",\n",
    "    \"Accept-Language\": \"en-US,en;q=0.9\",\n",
    "    \"Connection\": \"keep-alive\",\n",
    "    \"Content-Length\": \"21\",\n",
    "    \"Content-Type\": \"application/json;charset=UTF-8\",\n",
    "    \"Cookie\": \"session=eyJhdXRoIjp0cnVlfQ.YGE35w.x0slYTLo31jxg6VY1s9B2Lihjd4\",\n",
    "    \"Host\": \"123.57.202.1:8000\",\n",
    "    \"Origin\": \"http://123.57.202.1:8000\",\n",
    "    \"Referer\": \"http://123.57.202.1:8000/\",\n",
    "    \"User-Agent\": \"Mozilla/5.0 (Windows NT 10.0; Win64; x64) AppleWebKit/537.36 (KHTML, like Gecko) Chrome/89.0.4389.90 Safari/537.36\",\n",
    "}\n",
    "payload = {\"cards\": \"川AU2779\"}\n",
    "ret1=request.post(add_url, data=json.dumps(payload), headers=add_headers)"
   ]
  },
  {
   "cell_type": "code",
   "execution_count": null,
   "metadata": {},
   "outputs": [],
   "source": [
    "if ret1.content.decode() == 'ok':\n",
    "    print('------')"
   ]
  },
  {
   "cell_type": "code",
   "execution_count": null,
   "metadata": {},
   "outputs": [],
   "source": [
    "import json\n",
    "data = {'query_url':\"http://123.57.202.1:8000/vip\",'query_headers':query_headers,'add_url':\"http://123.57.202.1:8000/add\",'add_headers':add_headers}\n",
    "with open(\"config.json\",\"w\") as f:\n",
    "    json.dump(data,f)"
   ]
  },
  {
   "cell_type": "code",
   "execution_count": null,
   "metadata": {
    "scrolled": true
   },
   "outputs": [],
   "source": [
    "import json\n",
    "import pandas as pd\n",
    "\n",
    "tmp = pd.read_excel('stop_car.xlsx')\n",
    "tmp"
   ]
  },
  {
   "cell_type": "code",
   "execution_count": null,
   "metadata": {},
   "outputs": [],
   "source": [
    "json.loads(tmp.to_json(orient='records'))[0]"
   ]
  },
  {
   "cell_type": "code",
   "execution_count": null,
   "metadata": {},
   "outputs": [],
   "source": [
    "import datetime\n",
    "datetime.datetime.now().strftime('%Y-%m-%d %H:%M:%S')"
   ]
  },
  {
   "cell_type": "code",
   "execution_count": null,
   "metadata": {},
   "outputs": [],
   "source": [
    "from apscheduler.schedulers.background import BackgroundScheduler\n",
    "\n",
    "def test():\n",
    "    print('-------')\n",
    "    \n",
    "def test1():\n",
    "    print('!!!!')\n",
    "    \n",
    "scheduler = BackgroundScheduler()\n",
    "scheduler.add_job(test, 'interval', minutes=0.05)\n",
    "scheduler.add_job(test1, 'interval', minutes=0.1)\n",
    "scheduler.start()"
   ]
  },
  {
   "cell_type": "code",
   "execution_count": null,
   "metadata": {},
   "outputs": [],
   "source": [
    "scheduler.pause()"
   ]
  },
  {
   "cell_type": "code",
   "execution_count": null,
   "metadata": {},
   "outputs": [],
   "source": [
    "scheduler.resume()"
   ]
  },
  {
   "cell_type": "code",
   "execution_count": null,
   "metadata": {},
   "outputs": [],
   "source": [
    "num = es_ctrl.count(index='stop-car-data')['count']\n",
    "num"
   ]
  },
  {
   "cell_type": "code",
   "execution_count": null,
   "metadata": {},
   "outputs": [],
   "source": [
    "import threading,time\n",
    "\n",
    "def run(n):\n",
    "    for i in range(0,5):\n",
    "        print(\"task  \",i)\n",
    "        time.sleep(1)\n",
    "\n",
    "start_time=time.time()\n",
    "t1=threading.Thread(target=run,args=(\"t1\",))"
   ]
  },
  {
   "cell_type": "code",
   "execution_count": null,
   "metadata": {},
   "outputs": [],
   "source": [
    "t1.start()"
   ]
  },
  {
   "cell_type": "code",
   "execution_count": null,
   "metadata": {},
   "outputs": [],
   "source": [
    "import redis\n",
    "\n",
    "# config=\"121.41.42.251:6379:1\".split(':')\n",
    "config=\"localhost:6379:1\".split(':')\n",
    "pool = redis.ConnectionPool(host=config[0], port=config[1], decode_responses=True, db=config[2])\n",
    "redis_con = redis.Redis(connection_pool=pool)"
   ]
  },
  {
   "cell_type": "markdown",
   "metadata": {},
   "source": [
    "#### "
   ]
  },
  {
   "cell_type": "code",
   "execution_count": null,
   "metadata": {},
   "outputs": [],
   "source": [
    "import json"
   ]
  },
  {
   "cell_type": "code",
   "execution_count": null,
   "metadata": {},
   "outputs": [],
   "source": [
    "with open('..\\\\test\\\\v2ray.json', 'r') as f:\n",
    "    tmp = json.loads(f.read())"
   ]
  },
  {
   "cell_type": "code",
   "execution_count": null,
   "metadata": {},
   "outputs": [],
   "source": [
    "tmp"
   ]
  },
  {
   "cell_type": "code",
   "execution_count": null,
   "metadata": {},
   "outputs": [],
   "source": []
  }
 ],
 "metadata": {
  "kernelspec": {
   "display_name": "Python 3",
   "language": "python",
   "name": "python3"
  },
  "language_info": {
   "codemirror_mode": {
    "name": "ipython",
    "version": 3
   },
   "file_extension": ".py",
   "mimetype": "text/x-python",
   "name": "python",
   "nbconvert_exporter": "python",
   "pygments_lexer": "ipython3",
   "version": "3.8.8"
  },
  "toc-autonumbering": false,
  "toc-showmarkdowntxt": false
 },
 "nbformat": 4,
 "nbformat_minor": 4
}
